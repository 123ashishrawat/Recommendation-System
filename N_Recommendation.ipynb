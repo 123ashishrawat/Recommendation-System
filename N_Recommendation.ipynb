{
 "cells": [
  {
   "cell_type": "code",
   "execution_count": 1,
   "id": "ce26e9a1",
   "metadata": {},
   "outputs": [],
   "source": [
    "\n",
    "import pandas as pd\n",
    "import numpy as np\n",
    "from sklearn.metrics.pairwise import cosine_similarity\n"
   ]
  },
  {
   "cell_type": "code",
   "execution_count": 2,
   "id": "a21acfde",
   "metadata": {},
   "outputs": [
    {
     "name": "stdout",
     "output_type": "stream",
     "text": [
      "Defaulting to user installation because normal site-packages is not writeable\n",
      "Collecting scikit-surprise\n",
      "  Using cached scikit-surprise-1.1.3.tar.gz (771 kB)\n",
      "  Preparing metadata (setup.py): started\n",
      "  Preparing metadata (setup.py): finished with status 'done'\n",
      "Requirement already satisfied: joblib>=1.0.0 in c:\\programdata\\anaconda3\\lib\\site-packages (from scikit-surprise) (1.1.0)\n",
      "Requirement already satisfied: numpy>=1.17.3 in c:\\users\\india\\appdata\\roaming\\python\\python39\\site-packages (from scikit-surprise) (1.24.3)\n",
      "Requirement already satisfied: scipy>=1.3.2 in c:\\programdata\\anaconda3\\lib\\site-packages (from scikit-surprise) (1.9.1)\n",
      "Building wheels for collected packages: scikit-surprise\n",
      "  Building wheel for scikit-surprise (setup.py): started\n",
      "  Building wheel for scikit-surprise (setup.py): finished with status 'error'\n",
      "  Running setup.py clean for scikit-surprise\n",
      "Failed to build scikit-surprise\n",
      "Installing collected packages: scikit-surprise\n",
      "  Running setup.py install for scikit-surprise: started\n",
      "  Running setup.py install for scikit-surprise: finished with status 'error'\n",
      "Note: you may need to restart the kernel to use updated packages.\n"
     ]
    },
    {
     "name": "stderr",
     "output_type": "stream",
     "text": [
      "  error: subprocess-exited-with-error\n",
      "  \n",
      "  python setup.py bdist_wheel did not run successfully.\n",
      "  exit code: 1\n",
      "  \n",
      "  [76 lines of output]\n",
      "  running bdist_wheel\n",
      "  running build\n",
      "  running build_py\n",
      "  creating build\n",
      "  creating build\\lib.win-amd64-cpython-39\n",
      "  creating build\\lib.win-amd64-cpython-39\\surprise\n",
      "  copying surprise\\accuracy.py -> build\\lib.win-amd64-cpython-39\\surprise\n",
      "  copying surprise\\builtin_datasets.py -> build\\lib.win-amd64-cpython-39\\surprise\n",
      "  copying surprise\\dataset.py -> build\\lib.win-amd64-cpython-39\\surprise\n",
      "  copying surprise\\dump.py -> build\\lib.win-amd64-cpython-39\\surprise\n",
      "  copying surprise\\reader.py -> build\\lib.win-amd64-cpython-39\\surprise\n",
      "  copying surprise\\trainset.py -> build\\lib.win-amd64-cpython-39\\surprise\n",
      "  copying surprise\\utils.py -> build\\lib.win-amd64-cpython-39\\surprise\n",
      "  copying surprise\\__init__.py -> build\\lib.win-amd64-cpython-39\\surprise\n",
      "  copying surprise\\__main__.py -> build\\lib.win-amd64-cpython-39\\surprise\n",
      "  creating build\\lib.win-amd64-cpython-39\\surprise\\model_selection\n",
      "  copying surprise\\model_selection\\search.py -> build\\lib.win-amd64-cpython-39\\surprise\\model_selection\n",
      "  copying surprise\\model_selection\\split.py -> build\\lib.win-amd64-cpython-39\\surprise\\model_selection\n",
      "  copying surprise\\model_selection\\validation.py -> build\\lib.win-amd64-cpython-39\\surprise\\model_selection\n",
      "  copying surprise\\model_selection\\__init__.py -> build\\lib.win-amd64-cpython-39\\surprise\\model_selection\n",
      "  creating build\\lib.win-amd64-cpython-39\\surprise\\prediction_algorithms\n",
      "  copying surprise\\prediction_algorithms\\algo_base.py -> build\\lib.win-amd64-cpython-39\\surprise\\prediction_algorithms\n",
      "  copying surprise\\prediction_algorithms\\baseline_only.py -> build\\lib.win-amd64-cpython-39\\surprise\\prediction_algorithms\n",
      "  copying surprise\\prediction_algorithms\\knns.py -> build\\lib.win-amd64-cpython-39\\surprise\\prediction_algorithms\n",
      "  copying surprise\\prediction_algorithms\\predictions.py -> build\\lib.win-amd64-cpython-39\\surprise\\prediction_algorithms\n",
      "  copying surprise\\prediction_algorithms\\random_pred.py -> build\\lib.win-amd64-cpython-39\\surprise\\prediction_algorithms\n",
      "  copying surprise\\prediction_algorithms\\__init__.py -> build\\lib.win-amd64-cpython-39\\surprise\\prediction_algorithms\n",
      "  running egg_info\n",
      "  writing scikit_surprise.egg-info\\PKG-INFO\n",
      "  writing dependency_links to scikit_surprise.egg-info\\dependency_links.txt\n",
      "  writing entry points to scikit_surprise.egg-info\\entry_points.txt\n",
      "  writing requirements to scikit_surprise.egg-info\\requires.txt\n",
      "  writing top-level names to scikit_surprise.egg-info\\top_level.txt\n",
      "  reading manifest file 'scikit_surprise.egg-info\\SOURCES.txt'\n",
      "  reading manifest template 'MANIFEST.in'\n",
      "  adding license file 'LICENSE.md'\n",
      "  writing manifest file 'scikit_surprise.egg-info\\SOURCES.txt'\n",
      "  C:\\ProgramData\\Anaconda3\\lib\\site-packages\\setuptools\\command\\build_py.py:153: SetuptoolsDeprecationWarning:     Installing 'surprise.prediction_algorithms' as data is deprecated, please list it in `packages`.\n",
      "      !!\n",
      "  \n",
      "  \n",
      "      ############################\n",
      "      # Package would be ignored #\n",
      "      ############################\n",
      "      Python recognizes 'surprise.prediction_algorithms' as an importable package,\n",
      "      but it is not listed in the `packages` configuration of setuptools.\n",
      "  \n",
      "      'surprise.prediction_algorithms' has been automatically added to the distribution only\n",
      "      because it may contain data files, but this behavior is likely to change\n",
      "      in future versions of setuptools (and therefore is considered deprecated).\n",
      "  \n",
      "      Please make sure that 'surprise.prediction_algorithms' is included as a package by using\n",
      "      the `packages` configuration field or the proper discovery methods\n",
      "      (for example by using `find_namespace_packages(...)`/`find_namespace:`\n",
      "      instead of `find_packages(...)`/`find:`).\n",
      "  \n",
      "      You can read more about \"package discovery\" and \"data files\" on setuptools\n",
      "      documentation page.\n",
      "  \n",
      "  \n",
      "  !!\n",
      "  \n",
      "    check.warn(importable)\n",
      "  copying surprise\\similarities.c -> build\\lib.win-amd64-cpython-39\\surprise\n",
      "  copying surprise\\similarities.pyx -> build\\lib.win-amd64-cpython-39\\surprise\n",
      "  copying surprise\\prediction_algorithms\\co_clustering.c -> build\\lib.win-amd64-cpython-39\\surprise\\prediction_algorithms\n",
      "  copying surprise\\prediction_algorithms\\matrix_factorization.c -> build\\lib.win-amd64-cpython-39\\surprise\\prediction_algorithms\n",
      "  copying surprise\\prediction_algorithms\\optimize_baselines.c -> build\\lib.win-amd64-cpython-39\\surprise\\prediction_algorithms\n",
      "  copying surprise\\prediction_algorithms\\slope_one.c -> build\\lib.win-amd64-cpython-39\\surprise\\prediction_algorithms\n",
      "  copying surprise\\prediction_algorithms\\co_clustering.pyx -> build\\lib.win-amd64-cpython-39\\surprise\\prediction_algorithms\n",
      "  copying surprise\\prediction_algorithms\\matrix_factorization.pyx -> build\\lib.win-amd64-cpython-39\\surprise\\prediction_algorithms\n",
      "  copying surprise\\prediction_algorithms\\optimize_baselines.pyx -> build\\lib.win-amd64-cpython-39\\surprise\\prediction_algorithms\n",
      "  copying surprise\\prediction_algorithms\\slope_one.pyx -> build\\lib.win-amd64-cpython-39\\surprise\\prediction_algorithms\n",
      "  running build_ext\n",
      "  building 'surprise.similarities' extension\n",
      "  error: Microsoft Visual C++ 14.0 or greater is required. Get it with \"Microsoft C++ Build Tools\": https://visualstudio.microsoft.com/visual-cpp-build-tools/\n",
      "  [end of output]\n",
      "  \n",
      "  note: This error originates from a subprocess, and is likely not a problem with pip.\n",
      "  ERROR: Failed building wheel for scikit-surprise\n",
      "  error: subprocess-exited-with-error\n",
      "  \n",
      "  Running setup.py install for scikit-surprise did not run successfully.\n",
      "  exit code: 1\n",
      "  \n",
      "  [78 lines of output]\n",
      "  running install\n",
      "  C:\\ProgramData\\Anaconda3\\lib\\site-packages\\setuptools\\command\\install.py:34: SetuptoolsDeprecationWarning: setup.py install is deprecated. Use build and pip and other standards-based tools.\n",
      "    warnings.warn(\n",
      "  running build\n",
      "  running build_py\n",
      "  creating build\n",
      "  creating build\\lib.win-amd64-cpython-39\n",
      "  creating build\\lib.win-amd64-cpython-39\\surprise\n",
      "  copying surprise\\accuracy.py -> build\\lib.win-amd64-cpython-39\\surprise\n",
      "  copying surprise\\builtin_datasets.py -> build\\lib.win-amd64-cpython-39\\surprise\n",
      "  copying surprise\\dataset.py -> build\\lib.win-amd64-cpython-39\\surprise\n",
      "  copying surprise\\dump.py -> build\\lib.win-amd64-cpython-39\\surprise\n",
      "  copying surprise\\reader.py -> build\\lib.win-amd64-cpython-39\\surprise\n",
      "  copying surprise\\trainset.py -> build\\lib.win-amd64-cpython-39\\surprise\n",
      "  copying surprise\\utils.py -> build\\lib.win-amd64-cpython-39\\surprise\n",
      "  copying surprise\\__init__.py -> build\\lib.win-amd64-cpython-39\\surprise\n",
      "  copying surprise\\__main__.py -> build\\lib.win-amd64-cpython-39\\surprise\n",
      "  creating build\\lib.win-amd64-cpython-39\\surprise\\model_selection\n",
      "  copying surprise\\model_selection\\search.py -> build\\lib.win-amd64-cpython-39\\surprise\\model_selection\n",
      "  copying surprise\\model_selection\\split.py -> build\\lib.win-amd64-cpython-39\\surprise\\model_selection\n",
      "  copying surprise\\model_selection\\validation.py -> build\\lib.win-amd64-cpython-39\\surprise\\model_selection\n",
      "  copying surprise\\model_selection\\__init__.py -> build\\lib.win-amd64-cpython-39\\surprise\\model_selection\n",
      "  creating build\\lib.win-amd64-cpython-39\\surprise\\prediction_algorithms\n",
      "  copying surprise\\prediction_algorithms\\algo_base.py -> build\\lib.win-amd64-cpython-39\\surprise\\prediction_algorithms\n",
      "  copying surprise\\prediction_algorithms\\baseline_only.py -> build\\lib.win-amd64-cpython-39\\surprise\\prediction_algorithms\n",
      "  copying surprise\\prediction_algorithms\\knns.py -> build\\lib.win-amd64-cpython-39\\surprise\\prediction_algorithms\n",
      "  copying surprise\\prediction_algorithms\\predictions.py -> build\\lib.win-amd64-cpython-39\\surprise\\prediction_algorithms\n",
      "  copying surprise\\prediction_algorithms\\random_pred.py -> build\\lib.win-amd64-cpython-39\\surprise\\prediction_algorithms\n",
      "  copying surprise\\prediction_algorithms\\__init__.py -> build\\lib.win-amd64-cpython-39\\surprise\\prediction_algorithms\n",
      "  running egg_info\n",
      "  writing scikit_surprise.egg-info\\PKG-INFO\n",
      "  writing dependency_links to scikit_surprise.egg-info\\dependency_links.txt\n",
      "  writing entry points to scikit_surprise.egg-info\\entry_points.txt\n",
      "  writing requirements to scikit_surprise.egg-info\\requires.txt\n",
      "  writing top-level names to scikit_surprise.egg-info\\top_level.txt\n",
      "  reading manifest file 'scikit_surprise.egg-info\\SOURCES.txt'\n",
      "  reading manifest template 'MANIFEST.in'\n",
      "  adding license file 'LICENSE.md'\n",
      "  writing manifest file 'scikit_surprise.egg-info\\SOURCES.txt'\n",
      "  C:\\ProgramData\\Anaconda3\\lib\\site-packages\\setuptools\\command\\build_py.py:153: SetuptoolsDeprecationWarning:     Installing 'surprise.prediction_algorithms' as data is deprecated, please list it in `packages`.\n",
      "      !!\n",
      "  \n",
      "  \n",
      "      ############################\n",
      "      # Package would be ignored #\n",
      "      ############################\n",
      "      Python recognizes 'surprise.prediction_algorithms' as an importable package,\n",
      "      but it is not listed in the `packages` configuration of setuptools.\n",
      "  \n",
      "      'surprise.prediction_algorithms' has been automatically added to the distribution only\n",
      "      because it may contain data files, but this behavior is likely to change\n",
      "      in future versions of setuptools (and therefore is considered deprecated).\n",
      "  \n",
      "      Please make sure that 'surprise.prediction_algorithms' is included as a package by using\n",
      "      the `packages` configuration field or the proper discovery methods\n",
      "      (for example by using `find_namespace_packages(...)`/`find_namespace:`\n",
      "      instead of `find_packages(...)`/`find:`).\n",
      "  \n",
      "      You can read more about \"package discovery\" and \"data files\" on setuptools\n",
      "      documentation page.\n",
      "  \n",
      "  \n",
      "  !!\n",
      "  \n",
      "    check.warn(importable)\n",
      "  copying surprise\\similarities.c -> build\\lib.win-amd64-cpython-39\\surprise\n",
      "  copying surprise\\similarities.pyx -> build\\lib.win-amd64-cpython-39\\surprise\n",
      "  copying surprise\\prediction_algorithms\\co_clustering.c -> build\\lib.win-amd64-cpython-39\\surprise\\prediction_algorithms\n",
      "  copying surprise\\prediction_algorithms\\matrix_factorization.c -> build\\lib.win-amd64-cpython-39\\surprise\\prediction_algorithms\n",
      "  copying surprise\\prediction_algorithms\\optimize_baselines.c -> build\\lib.win-amd64-cpython-39\\surprise\\prediction_algorithms\n",
      "  copying surprise\\prediction_algorithms\\slope_one.c -> build\\lib.win-amd64-cpython-39\\surprise\\prediction_algorithms\n",
      "  copying surprise\\prediction_algorithms\\co_clustering.pyx -> build\\lib.win-amd64-cpython-39\\surprise\\prediction_algorithms\n",
      "  copying surprise\\prediction_algorithms\\matrix_factorization.pyx -> build\\lib.win-amd64-cpython-39\\surprise\\prediction_algorithms\n",
      "  copying surprise\\prediction_algorithms\\optimize_baselines.pyx -> build\\lib.win-amd64-cpython-39\\surprise\\prediction_algorithms\n",
      "  copying surprise\\prediction_algorithms\\slope_one.pyx -> build\\lib.win-amd64-cpython-39\\surprise\\prediction_algorithms\n",
      "  running build_ext\n",
      "  building 'surprise.similarities' extension\n",
      "  error: Microsoft Visual C++ 14.0 or greater is required. Get it with \"Microsoft C++ Build Tools\": https://visualstudio.microsoft.com/visual-cpp-build-tools/\n",
      "  [end of output]\n",
      "  \n",
      "  note: This error originates from a subprocess, and is likely not a problem with pip.\n",
      "error: legacy-install-failure\n",
      "\n",
      "Encountered error while trying to install package.\n",
      "\n",
      "scikit-surprise\n",
      "\n",
      "note: This is an issue with the package mentioned above, not pip.\n",
      "hint: See above for output from the failure.\n"
     ]
    }
   ],
   "source": [
    "pip install scikit-surprise"
   ]
  },
  {
   "cell_type": "code",
   "execution_count": 3,
   "id": "c5acf672",
   "metadata": {},
   "outputs": [],
   "source": [
    "data = pd.read_csv(\"book.csv\", encoding = \"latin1\")"
   ]
  },
  {
   "cell_type": "code",
   "execution_count": 4,
   "id": "3822a1e3",
   "metadata": {},
   "outputs": [],
   "source": [
    "df = pd.DataFrame(data)"
   ]
  },
  {
   "cell_type": "code",
   "execution_count": 5,
   "id": "97daa98a",
   "metadata": {},
   "outputs": [],
   "source": [
    "# Aggregate duplicate ratings by taking their mean\n",
    "df = df.groupby(['User.ID', 'Book.Title'])['Book.Rating'].mean().reset_index()"
   ]
  },
  {
   "cell_type": "code",
   "execution_count": 6,
   "id": "63e5c708",
   "metadata": {},
   "outputs": [],
   "source": [
    "# Create a user-item matrix\n",
    "user_item_matrix = df.pivot(index='User.ID', columns='Book.Title', values='Book.Rating').fillna(0)"
   ]
  },
  {
   "cell_type": "code",
   "execution_count": 7,
   "id": "f3cfb923",
   "metadata": {},
   "outputs": [],
   "source": [
    "# Calculate cosine similarity between books\n",
    "book_similarity = cosine_similarity(user_item_matrix.T)"
   ]
  },
  {
   "cell_type": "code",
   "execution_count": 8,
   "id": "53a7a12e",
   "metadata": {},
   "outputs": [],
   "source": [
    "# Create a DataFrame for book similarities\n",
    "book_similarity_df = pd.DataFrame(book_similarity, index=user_item_matrix.columns, columns=user_item_matrix.columns)"
   ]
  },
  {
   "cell_type": "code",
   "execution_count": 9,
   "id": "447faf39",
   "metadata": {},
   "outputs": [],
   "source": [
    "# Function to get book recommendations based on cosine similarity\n",
    "def get_book_recommendations(book_title, top_n=5):\n",
    "    if book_title not in user_item_matrix.columns:\n",
    "        return \"Book not found in the dataset.\"\n",
    "    \n",
    "    # Get the similarity scores for the given book\n",
    "    similar_books = book_similarity_df[book_title]\n",
    "    \n",
    "    # Sort books by similarity scores in descending order\n",
    "    similar_books = similar_books.sort_values(ascending=False)\n",
    "    \n",
    "    # Exclude the input book itself\n",
    "    similar_books = similar_books.drop(book_title)\n",
    "    \n",
    "    # Get the top N similar books\n",
    "    top_similar_books = similar_books.head(top_n)\n",
    "    \n",
    "    return top_similar_books.index.tolist()"
   ]
  },
  {
   "cell_type": "code",
   "execution_count": 10,
   "id": "19fbf002",
   "metadata": {},
   "outputs": [
    {
     "name": "stdout",
     "output_type": "stream",
     "text": [
      "Recommended books for 'Clara Callan': ['Decision in Normandy', ' Jason, Madison &amp', 'Spy Catcher: The Candid Autobiography of a Senior Intelligence Officer', 'Spring Break', 'Spring Break (Sweet Valley High Super Edition, No 3)']\n"
     ]
    }
   ],
   "source": [
    "# 1_Example usage\n",
    "input_book = \"Clara Callan\"\n",
    "recommended_books = get_book_recommendations(input_book)\n",
    "print(f\"Recommended books for '{input_book}': {recommended_books}\")"
   ]
  },
  {
   "cell_type": "code",
   "execution_count": 11,
   "id": "425eb2bd",
   "metadata": {},
   "outputs": [
    {
     "name": "stdout",
     "output_type": "stream",
     "text": [
      "Recommended books for 'Classical Mythology': [\"Sprinter (Hunter's Western Series)\", 'Spot Visits His Grandparents (Picture Puffins)', 'Spring Break', 'Spring Break (Sweet Valley High Super Edition, No 3)', 'Spring Collection']\n"
     ]
    }
   ],
   "source": [
    "# 2_Example usage\n",
    "input_book = \"Classical Mythology\"\n",
    "recommended_books = get_book_recommendations(input_book)\n",
    "print(f\"Recommended books for '{input_book}': {recommended_books}\")"
   ]
  },
  {
   "cell_type": "code",
   "execution_count": 12,
   "id": "a1f8dce2",
   "metadata": {},
   "outputs": [
    {
     "name": "stdout",
     "output_type": "stream",
     "text": [
      "Recommended books for 'The Mummies of Urumchi': [' Jason, Madison &amp', 'Spy in the House of Love', 'Spring Break (Sweet Valley High Super Edition, No 3)', 'Spring Collection', 'Spring Fancy']\n"
     ]
    }
   ],
   "source": [
    "# 3_Example usage\n",
    "input_book = \"The Mummies of Urumchi\"\n",
    "recommended_books = get_book_recommendations(input_book)\n",
    "print(f\"Recommended books for '{input_book}': {recommended_books}\")"
   ]
  },
  {
   "cell_type": "code",
   "execution_count": 13,
   "id": "720d4d64",
   "metadata": {},
   "outputs": [],
   "source": [
    "import pandas as pd\n",
    "import matplotlib.pyplot as plt\n",
    "import seaborn as sns"
   ]
  },
  {
   "cell_type": "code",
   "execution_count": 14,
   "id": "a2e4a86d",
   "metadata": {},
   "outputs": [
    {
     "name": "stdout",
     "output_type": "stream",
     "text": [
      "             User.ID  Book.Rating\n",
      "count    9993.000000  9993.000000\n",
      "mean    95342.799860     7.566597\n",
      "std    117652.347377     1.820754\n",
      "min         8.000000     1.000000\n",
      "25%      2103.000000     7.000000\n",
      "50%      3757.000000     8.000000\n",
      "75%    162052.000000     9.000000\n",
      "max    278854.000000    10.000000\n"
     ]
    }
   ],
   "source": [
    "# Summary statistics\n",
    "print(df.describe())"
   ]
  },
  {
   "cell_type": "code",
   "execution_count": 15,
   "id": "c1ee0f5f",
   "metadata": {},
   "outputs": [
    {
     "data": {
      "image/png": "[encoded data removed]",
      "text/plain": [
       "<Figure size 640x480 with 1 Axes>"
      ]
     },
     "metadata": {},
     "output_type": "display_data"
    }
   ],
   "source": [
    "# Distribution of ratings\n",
    "sns.countplot(x='Book.Rating', data=df)\n",
    "plt.title('Distribution of Book Ratings')\n",
    "plt.show()"
   ]
  },
  {
   "cell_type": "code",
   "execution_count": 16,
   "id": "2ff84b80",
   "metadata": {},
   "outputs": [
    {
     "data": {
      "image/png": "[encoded data removed]",
      "text/plain": [
       "<Figure size 1000x600 with 1 Axes>"
      ]
     },
     "metadata": {},
     "output_type": "display_data"
    }
   ],
   "source": [
    "# Most rated books\n",
    "most_rated_books = df['Book.Title'].value_counts().head(10)\n",
    "plt.figure(figsize=(10, 6))\n",
    "sns.barplot(y=most_rated_books.index, x=most_rated_books.values, orient='h')\n",
    "plt.title('Top 10 Most Rated Books')\n",
    "plt.xlabel('Number of Ratings')\n",
    "plt.show()"
   ]
  },
  {
   "cell_type": "code",
   "execution_count": 17,
   "id": "69fbbfcb",
   "metadata": {},
   "outputs": [
    {
     "data": {
      "image/png": "[encoded data removed]",
      "text/plain": [
       "<Figure size 1000x600 with 1 Axes>"
      ]
     },
     "metadata": {},
     "output_type": "display_data"
    }
   ],
   "source": [
    "# Users with the most ratings\n",
    "users_with_most_ratings = df['User.ID'].value_counts().head(10)\n",
    "plt.figure(figsize=(10, 6))\n",
    "sns.barplot(y=users_with_most_ratings.index, x=users_with_most_ratings.values, orient='h')\n",
    "plt.title('Top 10 Users with the Most Ratings')\n",
    "plt.xlabel('Number of Ratings')\n",
    "plt.show()"
   ]
  },
  {
   "cell_type": "code",
   "execution_count": 34,
   "id": "cf2e9e3d",
   "metadata": {},
   "outputs": [],
   "source": [
    "import pandas as pd\n",
    "import numpy as np\n",
    "from sklearn.metrics.pairwise import pairwise_distances\n",
    "from sklearn.metrics.pairwise import cosine_similarity\n",
    "from sklearn.neighbors import NearestNeighbors\n",
    "from scipy.sparse.linalg import svds"
   ]
  },
  {
   "cell_type": "code",
   "execution_count": 35,
   "id": "1fdc65d5",
   "metadata": {},
   "outputs": [],
   "source": [
    "# Create a user-item matrix\n",
    "user_item_matrix = df.pivot(index='User.ID', columns='Book.Title', values='Book.Rating').fillna(0)"
   ]
  },
  {
   "cell_type": "code",
   "execution_count": 36,
   "id": "58143444",
   "metadata": {},
   "outputs": [],
   "source": [
    "# 1. Euclidean Distance\n",
    "euclidean_similarity = pairwise_distances(user_item_matrix.T, metric='euclidean')"
   ]
  },
  {
   "cell_type": "code",
   "execution_count": 37,
   "id": "fc724622",
   "metadata": {},
   "outputs": [],
   "source": [
    "# 2. Pearson Correlation\n",
    "pearson_similarity = user_item_matrix.T.corr()"
   ]
  },
  {
   "cell_type": "code",
   "execution_count": 38,
   "id": "ae084401",
   "metadata": {},
   "outputs": [],
   "source": [
    "# 3. Cosine Similarity\n",
    "cosine_similarity_matrix = cosine_similarity(user_item_matrix.T)"
   ]
  },
  {
   "cell_type": "code",
   "execution_count": 39,
   "id": "b54a8cfb",
   "metadata": {},
   "outputs": [],
   "source": [
    "# Collaborative Filtering Methods\n",
    "\n",
    "# 1. User-Based Collaborative Filtering with k-Nearest Neighbors (KNN)\n",
    "knn_model = NearestNeighbors(n_neighbors=3, metric='cosine')\n",
    "knn_model.fit(user_item_matrix.T)\n",
    "distances, indices = knn_model.kneighbors(user_item_matrix.T, n_neighbors=3)"
   ]
  },
  {
   "cell_type": "code",
   "execution_count": 40,
   "id": "775490d1",
   "metadata": {},
   "outputs": [],
   "source": [
    "# 2. Matrix Factorization with Singular Value Decomposition (SVD)\n",
    "user_item_matrix_np = user_item_matrix.to_numpy()  # Convert to a NumPy array\n",
    "U, sigma, Vt = svds(user_item_matrix_np, k=2)\n",
    "predicted_ratings = np.dot(np.dot(U, np.diag(sigma)), Vt)"
   ]
  },
  {
   "cell_type": "code",
   "execution_count": 41,
   "id": "fc15cb36",
   "metadata": {},
   "outputs": [
    {
     "name": "stdout",
     "output_type": "stream",
     "text": [
      "Euclidean Similarity:\n",
      "[[ 0.          2.          4.         ... 10.63014581  9.43398113\n",
      "   8.94427191]\n",
      " [ 2.          0.          2.         ...  9.21954446  7.81024968\n",
      "   7.21110255]\n",
      " [ 4.          2.          0.         ...  8.06225775  6.40312424\n",
      "   5.65685425]\n",
      " ...\n",
      " [10.63014581  9.21954446  8.06225775 ...  0.          8.60232527\n",
      "   8.06225775]\n",
      " [ 9.43398113  7.81024968  6.40312424 ...  8.60232527  0.\n",
      "   6.40312424]\n",
      " [ 8.94427191  7.21110255  5.65685425 ...  8.06225775  6.40312424\n",
      "   0.        ]]\n"
     ]
    }
   ],
   "source": [
    "# Print results or use them as needed\n",
    "print(\"Euclidean Similarity:\")\n",
    "print(euclidean_similarity)"
   ]
  },
  {
   "cell_type": "code",
   "execution_count": 42,
   "id": "7fe2f48f",
   "metadata": {},
   "outputs": [
    {
     "name": "stdout",
     "output_type": "stream",
     "text": [
      "\n",
      "Pearson Correlation:\n",
      "User.ID    8         9         10        12        14        16        17      \\\n",
      "User.ID                                                                         \n",
      "8        1.000000 -0.000272 -0.000272 -0.000272 -0.000469 -0.000272 -0.000523   \n",
      "9       -0.000272  1.000000 -0.000104 -0.000104 -0.000179 -0.000104 -0.000199   \n",
      "10      -0.000272 -0.000104  1.000000 -0.000104 -0.000179 -0.000104 -0.000199   \n",
      "12      -0.000272 -0.000104 -0.000104  1.000000 -0.000179 -0.000104 -0.000199   \n",
      "14      -0.000469 -0.000179 -0.000179 -0.000179  1.000000 -0.000179 -0.000344   \n",
      "...           ...       ...       ...       ...       ...       ...       ...   \n",
      "278846  -0.000272 -0.000104 -0.000104 -0.000104 -0.000179 -0.000104 -0.000199   \n",
      "278849  -0.000272 -0.000104 -0.000104 -0.000104 -0.000179 -0.000104 -0.000199   \n",
      "278851  -0.000991 -0.000378 -0.000378 -0.000378 -0.000652 -0.000378 -0.000727   \n",
      "278852  -0.000272 -0.000104 -0.000104 -0.000104 -0.000179 -0.000104 -0.000199   \n",
      "278854  -0.000663 -0.000253 -0.000253 -0.000253 -0.000436 -0.000253 -0.000487   \n",
      "\n",
      "User.ID    19        22        26      ...    278831    278832    278836  \\\n",
      "User.ID                                ...                                 \n",
      "8       -0.000272 -0.000272 -0.000384  ... -0.000272 -0.000471 -0.000272   \n",
      "9       -0.000104 -0.000104 -0.000146  ... -0.000104 -0.000179 -0.000104   \n",
      "10      -0.000104 -0.000104 -0.000146  ... -0.000104 -0.000179 -0.000104   \n",
      "12      -0.000104 -0.000104 -0.000146  ... -0.000104 -0.000179 -0.000104   \n",
      "14      -0.000179 -0.000179 -0.000252  ... -0.000179 -0.000309 -0.000179   \n",
      "...           ...       ...       ...  ...       ...       ...       ...   \n",
      "278846  -0.000104 -0.000104 -0.000146  ... -0.000104 -0.000179 -0.000104   \n",
      "278849  -0.000104 -0.000104 -0.000146  ... -0.000104 -0.000179 -0.000104   \n",
      "278851  -0.000378 -0.000378 -0.000533  ... -0.000378 -0.000654 -0.000378   \n",
      "278852  -0.000104 -0.000104 -0.000146  ... -0.000104 -0.000179 -0.000104   \n",
      "278854  -0.000253 -0.000253 -0.000357  ... -0.000253 -0.000438 -0.000253   \n",
      "\n",
      "User.ID    278843    278844    278846    278849    278851    278852    278854  \n",
      "User.ID                                                                        \n",
      "8       -0.001203 -0.000469 -0.000272 -0.000272 -0.000991 -0.000272 -0.000663  \n",
      "9       -0.000458 -0.000179 -0.000104 -0.000104 -0.000378 -0.000104 -0.000253  \n",
      "10      -0.000458 -0.000179 -0.000104 -0.000104 -0.000378 -0.000104 -0.000253  \n",
      "12      -0.000458 -0.000179 -0.000104 -0.000104 -0.000378 -0.000104 -0.000253  \n",
      "14      -0.000791 -0.000309 -0.000179 -0.000179 -0.000652 -0.000179 -0.000436  \n",
      "...           ...       ...       ...       ...       ...       ...       ...  \n",
      "278846  -0.000458 -0.000179  1.000000 -0.000104 -0.000378 -0.000104 -0.000253  \n",
      "278849  -0.000458 -0.000179 -0.000104  1.000000 -0.000378 -0.000104 -0.000253  \n",
      "278851  -0.001673 -0.000653 -0.000378 -0.000378  1.000000 -0.000378 -0.000922  \n",
      "278852  -0.000458 -0.000179 -0.000104 -0.000104 -0.000378  1.000000 -0.000253  \n",
      "278854  -0.001119 -0.000437 -0.000253 -0.000253 -0.000922 -0.000253  1.000000  \n",
      "\n",
      "[2182 rows x 2182 columns]\n"
     ]
    }
   ],
   "source": [
    "print(\"\\nPearson Correlation:\")\n",
    "print(pearson_similarity)"
   ]
  },
  {
   "cell_type": "code",
   "execution_count": 43,
   "id": "f529317d",
   "metadata": {},
   "outputs": [
    {
     "name": "stdout",
     "output_type": "stream",
     "text": [
      "\n",
      "Cosine Similarity:\n",
      "[[1. 1. 1. ... 0. 0. 0.]\n",
      " [1. 1. 1. ... 0. 0. 0.]\n",
      " [1. 1. 1. ... 0. 0. 0.]\n",
      " ...\n",
      " [0. 0. 0. ... 1. 0. 0.]\n",
      " [0. 0. 0. ... 0. 1. 0.]\n",
      " [0. 0. 0. ... 0. 0. 1.]]\n"
     ]
    }
   ],
   "source": [
    "print(\"\\nCosine Similarity:\")\n",
    "print(cosine_similarity_matrix)"
   ]
  },
  {
   "cell_type": "code",
   "execution_count": 44,
   "id": "d7fadc36",
   "metadata": {},
   "outputs": [
    {
     "name": "stdout",
     "output_type": "stream",
     "text": [
      "\n",
      "K-Nearest Neighbors (User-Based Collaborative Filtering):\n",
      "[[   0    1    2]\n",
      " [   0    1    2]\n",
      " [   0    1    2]\n",
      " ...\n",
      " [2424 2563 3265]\n",
      " [ 539 2672 3836]\n",
      " [   5   17   36]]\n"
     ]
    }
   ],
   "source": [
    "print(\"\\nK-Nearest Neighbors (User-Based Collaborative Filtering):\")\n",
    "print(indices)"
   ]
  },
  {
   "cell_type": "code",
   "execution_count": 45,
   "id": "9637b3d8",
   "metadata": {},
   "outputs": [
    {
     "name": "stdout",
     "output_type": "stream",
     "text": [
      "\n",
      "Matrix Factorization with SVD (Predicted Ratings):\n",
      "[[-2.30745618e-35 -1.96976733e-35 -2.47432073e-35 ...  4.54351134e-34\n",
      "   1.09851960e-33  1.50186793e-17]\n",
      " [-2.03291347e-37  5.64205737e-38 -6.46851830e-38 ... -4.24851400e-36\n",
      "  -4.71972491e-36  1.32316726e-19]\n",
      " [ 2.21213595e-34 -6.03162170e-35  7.11067998e-35 ...  4.58436904e-33\n",
      "   5.06829786e-33 -1.43981826e-16]\n",
      " ...\n",
      " [ 5.90195536e-35 -4.21701528e-35  1.58598592e-36 ...  2.15882784e-33\n",
      "   2.98495569e-33 -3.84141153e-17]\n",
      " [ 1.84824083e-34 -3.77629390e-35  6.78306343e-35 ...  3.37700797e-33\n",
      "   3.44371796e-33 -1.20296938e-16]\n",
      " [-9.16835073e-37  4.92047242e-36  2.81895139e-36 ... -1.86586247e-34\n",
      "  -3.13426041e-34  5.96727623e-19]]\n"
     ]
    }
   ],
   "source": [
    "print(\"\\nMatrix Factorization with SVD (Predicted Ratings):\")\n",
    "print(predicted_ratings)"
   ]
  },
  {
   "cell_type": "code",
   "execution_count": null,
   "id": "a2d90be5",
   "metadata": {},
   "outputs": [],
   "source": []
  }
 ],
 "metadata": {
  "kernelspec": {
   "display_name": "Python 3 (ipykernel)",
   "language": "python",
   "name": "python3"
  },
  "language_info": {
   "codemirror_mode": {
    "name": "ipython",
    "version": 3
   },
   "file_extension": ".py",
   "mimetype": "text/x-python",
   "name": "python",
   "nbconvert_exporter": "python",
   "pygments_lexer": "ipython3",
   "version": "3.9.13"
  }
 },
 "nbformat": 4,
 "nbformat_minor": 5
}
